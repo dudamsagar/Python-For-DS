{
 "cells": [
  {
   "cell_type": "markdown",
   "id": "18f6972e",
   "metadata": {},
   "source": [
    "## Importing Pandas"
   ]
  },
  {
   "cell_type": "code",
   "execution_count": null,
   "id": "10e6d205",
   "metadata": {},
   "outputs": [],
   "source": [
    "#!pip install pandas\n",
    "import pandas as pd"
   ]
  },
  {
   "cell_type": "markdown",
   "id": "5b208124",
   "metadata": {},
   "source": [
    "# Data Types\n",
    "* Series\n",
    "* DataFrame"
   ]
  },
  {
   "cell_type": "code",
   "execution_count": null,
   "id": "15117a87",
   "metadata": {},
   "outputs": [],
   "source": [
    "SimpleList = ['a','b','c','d','e','f']\n",
    "Series1 = pd.Series(SimpleList)\n",
    "Series1"
   ]
  },
  {
   "cell_type": "code",
   "execution_count": null,
   "id": "75fc5557",
   "metadata": {},
   "outputs": [],
   "source": [
    "series = pd.Series({'x': 0, 'y': 1, 'z': 2})\n",
    "series"
   ]
  },
  {
   "cell_type": "code",
   "execution_count": null,
   "id": "74de9432",
   "metadata": {},
   "outputs": [],
   "source": [
    "pd.DataFrame(Series1)"
   ]
  },
  {
   "cell_type": "code",
   "execution_count": null,
   "id": "859a2991",
   "metadata": {},
   "outputs": [],
   "source": [
    "data = [['John', 56], ['Johnny', 21], ['Joe', 54]]\n",
    "\n",
    "pd.DataFrame(data, columns=['Name', 'Age'])"
   ]
  },
  {
   "cell_type": "code",
   "execution_count": null,
   "id": "3352ce7d",
   "metadata": {},
   "outputs": [],
   "source": [
    "data[0][0]"
   ]
  },
  {
   "cell_type": "code",
   "execution_count": null,
   "id": "286bebeb",
   "metadata": {},
   "outputs": [],
   "source": [
    "first_df = pd.DataFrame({\n",
    "    'name': ['Jane', 'John', 'Joshua'],\n",
    "    'age': [15, 25, 25]})\n",
    "\n",
    "\n",
    "second_df = pd.DataFrame({\n",
    "    'name': ['Jane', 'John', 'Jacob'],\n",
    "    'weight': [128, 118, 120]})\n",
    "\n",
    "third_df = pd.DataFrame({\n",
    "    'name': ['zJean', 'yJenny', 'xJessie'],\n",
    "    'age': [17, 28, 30]})"
   ]
  },
  {
   "cell_type": "code",
   "execution_count": null,
   "id": "fa667e40",
   "metadata": {},
   "outputs": [],
   "source": [
    "first_df"
   ]
  },
  {
   "cell_type": "code",
   "execution_count": null,
   "id": "cbfd6ce1",
   "metadata": {},
   "outputs": [],
   "source": [
    "second_df"
   ]
  },
  {
   "cell_type": "code",
   "execution_count": null,
   "id": "dbe3ee4f",
   "metadata": {},
   "outputs": [],
   "source": [
    "third_df"
   ]
  },
  {
   "cell_type": "code",
   "execution_count": null,
   "id": "1c4216c3",
   "metadata": {},
   "outputs": [],
   "source": [
    "pd.merge(first_df, second_df, left_on='name', right_on='name', how='right')"
   ]
  },
  {
   "cell_type": "code",
   "execution_count": null,
   "id": "e38b544e",
   "metadata": {},
   "outputs": [],
   "source": [
    "## Importing a dataset \n",
    "cars = pd.read_csv(\"mtcars2.csv\")\n",
    "cars.head()"
   ]
  },
  {
   "cell_type": "code",
   "execution_count": null,
   "id": "d83d8308",
   "metadata": {},
   "outputs": [],
   "source": [
    "cars.info()"
   ]
  },
  {
   "cell_type": "code",
   "execution_count": null,
   "id": "e444e9a1",
   "metadata": {},
   "outputs": [],
   "source": [
    "print(cars.count())"
   ]
  },
  {
   "cell_type": "code",
   "execution_count": null,
   "id": "c8145010",
   "metadata": {},
   "outputs": [],
   "source": [
    "cars.describe()"
   ]
  },
  {
   "cell_type": "code",
   "execution_count": null,
   "id": "5cdcc978",
   "metadata": {},
   "outputs": [],
   "source": [
    "cars.shape"
   ]
  },
  {
   "cell_type": "code",
   "execution_count": null,
   "id": "52d775dd",
   "metadata": {},
   "outputs": [],
   "source": [
    "cars.mean()"
   ]
  },
  {
   "cell_type": "code",
   "execution_count": null,
   "id": "997912f3",
   "metadata": {},
   "outputs": [],
   "source": [
    "cars.median()"
   ]
  },
  {
   "cell_type": "code",
   "execution_count": null,
   "id": "ba1b3688",
   "metadata": {},
   "outputs": [],
   "source": [
    "cars.std()"
   ]
  },
  {
   "cell_type": "code",
   "execution_count": null,
   "id": "d23a6129",
   "metadata": {},
   "outputs": [],
   "source": [
    "cars.min()"
   ]
  },
  {
   "cell_type": "code",
   "execution_count": null,
   "id": "e8f52b32",
   "metadata": {},
   "outputs": [],
   "source": [
    "cars.max()"
   ]
  },
  {
   "cell_type": "code",
   "execution_count": null,
   "id": "245dd34d",
   "metadata": {},
   "outputs": [],
   "source": [
    "## Clean the data \n",
    "\n",
    "cars.rename(columns={'model':'NEW_model','mpg':'NEW_mpg'})"
   ]
  },
  {
   "cell_type": "code",
   "execution_count": null,
   "id": "1875a9f5",
   "metadata": {
    "scrolled": true
   },
   "outputs": [],
   "source": [
    "cars.qsec.median()"
   ]
  },
  {
   "cell_type": "code",
   "execution_count": null,
   "id": "e94f818b",
   "metadata": {},
   "outputs": [],
   "source": [
    "cars.fillna(cars.qsec.median())"
   ]
  },
  {
   "cell_type": "code",
   "execution_count": null,
   "id": "98f48c52",
   "metadata": {},
   "outputs": [],
   "source": [
    "cars.drop([\"vs\",\"am\"],axis=1)"
   ]
  },
  {
   "cell_type": "code",
   "execution_count": null,
   "id": "585c6430",
   "metadata": {},
   "outputs": [],
   "source": [
    "type(cars)"
   ]
  },
  {
   "cell_type": "code",
   "execution_count": null,
   "id": "090143bf",
   "metadata": {},
   "outputs": [],
   "source": [
    "# Find the mean of wt \n",
    "# Fill all NAN with mean of wt \n",
    "# Drop gear and cyl column "
   ]
  },
  {
   "cell_type": "code",
   "execution_count": null,
   "id": "0107a493",
   "metadata": {},
   "outputs": [],
   "source": [
    "cars.wt.mean()"
   ]
  },
  {
   "cell_type": "code",
   "execution_count": null,
   "id": "cc4d26b5",
   "metadata": {},
   "outputs": [],
   "source": [
    "cars.fillna(cars.wt.mean())"
   ]
  },
  {
   "cell_type": "code",
   "execution_count": null,
   "id": "478b34e8",
   "metadata": {},
   "outputs": [],
   "source": [
    "cars.drop([\"cyl\",\"gear\"],axis=1)"
   ]
  },
  {
   "cell_type": "code",
   "execution_count": null,
   "id": "2f873d76",
   "metadata": {},
   "outputs": [],
   "source": [
    "## Data Manipulation \n",
    "cars"
   ]
  },
  {
   "cell_type": "code",
   "execution_count": null,
   "id": "54de6baf",
   "metadata": {},
   "outputs": [],
   "source": [
    "import numpy as np\n",
    "cars.groupby(['cyl','model']).mean()"
   ]
  },
  {
   "cell_type": "code",
   "execution_count": null,
   "id": "70885495",
   "metadata": {},
   "outputs": [],
   "source": [
    "cars.iloc[ : , : ]"
   ]
  },
  {
   "cell_type": "code",
   "execution_count": null,
   "id": "2c7e46bf",
   "metadata": {},
   "outputs": [],
   "source": [
    "# 5th recod of 4th column\n",
    "cars.iloc[0:5,4]"
   ]
  },
  {
   "cell_type": "code",
   "execution_count": null,
   "id": "ceb08c74",
   "metadata": {},
   "outputs": [],
   "source": [
    "# All rows of first column\n",
    "cars.iloc[:,1]"
   ]
  },
  {
   "cell_type": "code",
   "execution_count": null,
   "id": "5d858fd2",
   "metadata": {},
   "outputs": [],
   "source": [
    "cars.head()"
   ]
  },
  {
   "cell_type": "code",
   "execution_count": null,
   "id": "340faabf",
   "metadata": {},
   "outputs": [],
   "source": [
    "## All records of MPG column \n",
    "cars.loc[:,\"mpg\"]"
   ]
  },
  {
   "cell_type": "code",
   "execution_count": null,
   "id": "f8be29fc",
   "metadata": {},
   "outputs": [],
   "source": [
    "## Records of mpg from 0 to 6 \n",
    "cars.loc[:6,'mpg']"
   ]
  },
  {
   "cell_type": "code",
   "execution_count": null,
   "id": "900b594f",
   "metadata": {},
   "outputs": [],
   "source": [
    "## Firse 7 records of MPG to Qsec\n",
    "cars.loc[:8,'mpg':'qsec']"
   ]
  },
  {
   "cell_type": "code",
   "execution_count": null,
   "id": "405528db",
   "metadata": {},
   "outputs": [],
   "source": [
    "cars.head()"
   ]
  },
  {
   "cell_type": "code",
   "execution_count": null,
   "id": "83ab4543",
   "metadata": {},
   "outputs": [],
   "source": [
    "# Setting values \n",
    "cars['am'] = 1\n",
    "cars"
   ]
  },
  {
   "cell_type": "code",
   "execution_count": null,
   "id": "27f5f88a",
   "metadata": {},
   "outputs": [],
   "source": [
    "## Sort\n",
    "cars.sort_values(by='cyl', ascending = False)"
   ]
  },
  {
   "cell_type": "code",
   "execution_count": null,
   "id": "4e6e7e16",
   "metadata": {},
   "outputs": [],
   "source": [
    "cars.sort_values(by=['cyl','gear'],ascending= False)"
   ]
  },
  {
   "cell_type": "code",
   "execution_count": null,
   "id": "9729d2ba",
   "metadata": {},
   "outputs": [],
   "source": [
    "cars['cyl']>6"
   ]
  },
  {
   "cell_type": "code",
   "execution_count": null,
   "id": "9bf414b2",
   "metadata": {},
   "outputs": [],
   "source": [
    "## Filter \n",
    "\n",
    "cars[cars['cyl'] > 6]"
   ]
  },
  {
   "cell_type": "code",
   "execution_count": null,
   "id": "0cce90cf",
   "metadata": {},
   "outputs": [],
   "source": [
    "cars"
   ]
  },
  {
   "cell_type": "code",
   "execution_count": null,
   "id": "8e9aba8e",
   "metadata": {},
   "outputs": [],
   "source": [
    "## Cars 0th row to 8th row using indexing \n",
    "cars[0:9]"
   ]
  },
  {
   "cell_type": "code",
   "execution_count": null,
   "id": "a1e5714a",
   "metadata": {},
   "outputs": [],
   "source": [
    "## Cars 0th row to 8th row & cyl,diap,hp,drat,wt columns only using indexing \n",
    "cars.loc[0:9,'cyl':'wt'] "
   ]
  },
  {
   "cell_type": "code",
   "execution_count": null,
   "id": "c76c8031",
   "metadata": {},
   "outputs": [],
   "source": [
    "## Cars 0th row to 8th row of cars and correspnding gears\n",
    "cars.loc[0:9,['model','gear']] "
   ]
  },
  {
   "cell_type": "code",
   "execution_count": null,
   "id": "d6b28fcc",
   "metadata": {},
   "outputs": [],
   "source": [
    "## Correspnding cyl & gears of Mazda & Variant\n",
    "cars.model.isin(['Mazda RX4'])"
   ]
  },
  {
   "cell_type": "code",
   "execution_count": null,
   "id": "367b3bea",
   "metadata": {},
   "outputs": [],
   "source": [
    "cars[cars.model.isin(['Mazda RX4'])]"
   ]
  }
 ],
 "metadata": {
  "kernelspec": {
   "display_name": "Python 3 (ipykernel)",
   "language": "python",
   "name": "python3"
  },
  "language_info": {
   "codemirror_mode": {
    "name": "ipython",
    "version": 3
   },
   "file_extension": ".py",
   "mimetype": "text/x-python",
   "name": "python",
   "nbconvert_exporter": "python",
   "pygments_lexer": "ipython3",
   "version": "3.9.12"
  }
 },
 "nbformat": 4,
 "nbformat_minor": 5
}
