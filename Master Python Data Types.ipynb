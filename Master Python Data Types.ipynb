{
 "cells": [
  {
   "cell_type": "markdown",
   "id": "5bc1339d",
   "metadata": {},
   "source": [
    "# Python Basic\n",
    "### What is a Variable?\n",
    "### What is a Literal?"
   ]
  },
  {
   "cell_type": "code",
   "execution_count": null,
   "id": "b0b98469",
   "metadata": {},
   "outputs": [],
   "source": [
    "abc=10\n",
    "#here 'abc' is the variable\n",
    "#value 10 is the literal"
   ]
  },
  {
   "cell_type": "code",
   "execution_count": null,
   "id": "26a23f7f",
   "metadata": {},
   "outputs": [],
   "source": []
  },
  {
   "cell_type": "code",
   "execution_count": null,
   "id": "b4f1f9b0",
   "metadata": {},
   "outputs": [],
   "source": []
  },
  {
   "cell_type": "code",
   "execution_count": null,
   "id": "15a31451",
   "metadata": {},
   "outputs": [],
   "source": []
  },
  {
   "cell_type": "markdown",
   "id": "3e37fd76",
   "metadata": {},
   "source": [
    "### Rules to Declare a Variable\n",
    "* Can start with underscore(_) or any letter\n",
    "* Can't start with numbers or any other special characters"
   ]
  },
  {
   "cell_type": "code",
   "execution_count": null,
   "id": "6f1a3936",
   "metadata": {},
   "outputs": [],
   "source": [
    "a23=30"
   ]
  },
  {
   "cell_type": "code",
   "execution_count": null,
   "id": "ee51bcf6",
   "metadata": {},
   "outputs": [],
   "source": [
    "a=30\n",
    "_abc23=56\n",
    "a123=90\n",
    "123=30"
   ]
  },
  {
   "cell_type": "markdown",
   "id": "fbce55b7",
   "metadata": {},
   "source": [
    "### What are Data Types?"
   ]
  },
  {
   "cell_type": "code",
   "execution_count": null,
   "id": "4b84c515",
   "metadata": {},
   "outputs": [],
   "source": []
  },
  {
   "cell_type": "code",
   "execution_count": null,
   "id": "cec90221",
   "metadata": {},
   "outputs": [],
   "source": []
  },
  {
   "cell_type": "code",
   "execution_count": null,
   "id": "2a4d6e7c",
   "metadata": {},
   "outputs": [],
   "source": []
  },
  {
   "cell_type": "code",
   "execution_count": null,
   "id": "40d8ca3d",
   "metadata": {},
   "outputs": [],
   "source": []
  },
  {
   "cell_type": "code",
   "execution_count": null,
   "id": "2978b7f3",
   "metadata": {},
   "outputs": [],
   "source": []
  },
  {
   "cell_type": "code",
   "execution_count": null,
   "id": "10619ff1",
   "metadata": {},
   "outputs": [],
   "source": []
  },
  {
   "cell_type": "code",
   "execution_count": null,
   "id": "735e2d9b",
   "metadata": {},
   "outputs": [],
   "source": []
  },
  {
   "cell_type": "markdown",
   "id": "661e3fc0",
   "metadata": {},
   "source": [
    "# Data Types\n",
    "\n",
    "* Text Type\n",
    "    * Str - String is a sequence of characters in 'single', \"double\", '''triple''' quotes\n",
    "\n",
    "* Numeric Type\n",
    "    * Int - non-decimal\n",
    "    * Float - decimal\n",
    "\n",
    "* Boolean Type\n",
    "    * Bool - (True / False)\n",
    "    \n",
    "* Sequence Type\n",
    "    * List - ordered collection of items in square brackets '[]'\n",
    "    * Tuple - ordered collection of items in round brackets '()'\n",
    "\n",
    "* Set Type\n",
    "    * Set - unordered collection of unique items in curly brackets'{}' \n",
    "    * Dict - unordered collection of key-value pairs"
   ]
  },
  {
   "cell_type": "code",
   "execution_count": 4,
   "id": "289aa7ec",
   "metadata": {},
   "outputs": [],
   "source": [
    "a=10"
   ]
  },
  {
   "cell_type": "code",
   "execution_count": 5,
   "id": "06978cb2",
   "metadata": {},
   "outputs": [
    {
     "name": "stdout",
     "output_type": "stream",
     "text": [
      "10\n"
     ]
    }
   ],
   "source": [
    "print(a)"
   ]
  },
  {
   "cell_type": "code",
   "execution_count": 6,
   "id": "4c14d954",
   "metadata": {},
   "outputs": [
    {
     "data": {
      "text/plain": [
       "int"
      ]
     },
     "execution_count": 6,
     "metadata": {},
     "output_type": "execute_result"
    }
   ],
   "source": [
    "type(a)"
   ]
  },
  {
   "cell_type": "code",
   "execution_count": 7,
   "id": "7cfbc3c5",
   "metadata": {},
   "outputs": [
    {
     "name": "stdout",
     "output_type": "stream",
     "text": [
      "4.8\n"
     ]
    }
   ],
   "source": [
    "b=4.8\n",
    "print(b)"
   ]
  },
  {
   "cell_type": "code",
   "execution_count": 8,
   "id": "95337ae2",
   "metadata": {},
   "outputs": [
    {
     "data": {
      "text/plain": [
       "float"
      ]
     },
     "execution_count": 8,
     "metadata": {},
     "output_type": "execute_result"
    }
   ],
   "source": [
    "type(b)"
   ]
  },
  {
   "cell_type": "code",
   "execution_count": 9,
   "id": "768837b1",
   "metadata": {},
   "outputs": [],
   "source": [
    "bcd = True"
   ]
  },
  {
   "cell_type": "code",
   "execution_count": 10,
   "id": "0c23c714",
   "metadata": {},
   "outputs": [
    {
     "data": {
      "text/plain": [
       "bool"
      ]
     },
     "execution_count": 10,
     "metadata": {},
     "output_type": "execute_result"
    }
   ],
   "source": [
    "type(bcd)"
   ]
  },
  {
   "cell_type": "code",
   "execution_count": 11,
   "id": "e505cdc9",
   "metadata": {},
   "outputs": [
    {
     "data": {
      "text/plain": [
       "str"
      ]
     },
     "execution_count": 11,
     "metadata": {},
     "output_type": "execute_result"
    }
   ],
   "source": [
    "#String=\" \",' ', ''' '''\n",
    "s='abcdef'\n",
    "type(s)"
   ]
  },
  {
   "cell_type": "markdown",
   "id": "de4478d8",
   "metadata": {},
   "source": [
    "### Ways to assign a Value\n",
    "* Static - Direct assignment\n",
    "* Dynamic - User defined assignment"
   ]
  },
  {
   "cell_type": "code",
   "execution_count": 17,
   "id": "4e330f5a",
   "metadata": {},
   "outputs": [
    {
     "name": "stdout",
     "output_type": "stream",
     "text": [
      "What is your name: Mike\n"
     ]
    }
   ],
   "source": [
    "a=input('What is your name: ')"
   ]
  },
  {
   "cell_type": "code",
   "execution_count": 18,
   "id": "cd78c5f2",
   "metadata": {},
   "outputs": [
    {
     "name": "stdout",
     "output_type": "stream",
     "text": [
      "Hi  Mike\n"
     ]
    }
   ],
   "source": [
    "print('Hi ', a)"
   ]
  },
  {
   "cell_type": "code",
   "execution_count": 13,
   "id": "90c3d184",
   "metadata": {},
   "outputs": [
    {
     "data": {
      "text/plain": [
       "str"
      ]
     },
     "execution_count": 13,
     "metadata": {},
     "output_type": "execute_result"
    }
   ],
   "source": [
    "type(a)"
   ]
  },
  {
   "cell_type": "code",
   "execution_count": null,
   "id": "01996303",
   "metadata": {},
   "outputs": [],
   "source": [
    "x=int(input(\"enter a value:\"))"
   ]
  },
  {
   "cell_type": "code",
   "execution_count": null,
   "id": "95094f6c",
   "metadata": {},
   "outputs": [],
   "source": [
    "type(x)"
   ]
  },
  {
   "cell_type": "code",
   "execution_count": null,
   "id": "d6bd96d8",
   "metadata": {},
   "outputs": [],
   "source": [
    "y=float(input(\"enter a value\"))"
   ]
  },
  {
   "cell_type": "code",
   "execution_count": null,
   "id": "4b02e9c5",
   "metadata": {},
   "outputs": [],
   "source": [
    "type(y)"
   ]
  },
  {
   "cell_type": "markdown",
   "id": "a76c5f68",
   "metadata": {},
   "source": [
    "## Indexing and Slicing"
   ]
  },
  {
   "cell_type": "code",
   "execution_count": null,
   "id": "87d20d1f",
   "metadata": {},
   "outputs": [],
   "source": [
    "s=\"Hello World\"\n",
    "   #0123....."
   ]
  },
  {
   "cell_type": "code",
   "execution_count": null,
   "id": "a4891bc5",
   "metadata": {},
   "outputs": [],
   "source": [
    "#indexing\n",
    "s[0]"
   ]
  },
  {
   "cell_type": "code",
   "execution_count": null,
   "id": "40b094cb",
   "metadata": {},
   "outputs": [],
   "source": [
    "s[6]"
   ]
  },
  {
   "cell_type": "code",
   "execution_count": null,
   "id": "a5d26f2e",
   "metadata": {},
   "outputs": [],
   "source": [
    "#slicing\n",
    "s[0:5]#n-1"
   ]
  },
  {
   "cell_type": "code",
   "execution_count": null,
   "id": "3d88df2e",
   "metadata": {},
   "outputs": [],
   "source": [
    "s[1:7]"
   ]
  },
  {
   "cell_type": "markdown",
   "id": "fc48341f",
   "metadata": {},
   "source": [
    "## Mutable & Immutable\n",
    "\n",
    "#### Mutable -  can be edited using indexing - eg. LIST, DICT\n",
    "#### Immutable - cannot be edited using indexing - eg. STRING, TUPLES, SETS"
   ]
  },
  {
   "cell_type": "code",
   "execution_count": null,
   "id": "e2943c96",
   "metadata": {},
   "outputs": [],
   "source": [
    "s[0]='S'\n"
   ]
  },
  {
   "cell_type": "markdown",
   "id": "21ab4281",
   "metadata": {},
   "source": [
    "### Tuple \n",
    "- ordered collection of items in round brackets '()'\n",
    "- immutable\n",
    "- can hold duplicates"
   ]
  },
  {
   "cell_type": "code",
   "execution_count": null,
   "id": "60344d6a",
   "metadata": {},
   "outputs": [],
   "source": [
    "t=(\"Python\",\"Hii\",1,2,3,4.5,6.7,8.9,2,3,4,\"Hii\")\n",
    "print(t)"
   ]
  },
  {
   "cell_type": "code",
   "execution_count": null,
   "id": "8b092f78",
   "metadata": {},
   "outputs": [],
   "source": [
    "t[6]"
   ]
  },
  {
   "cell_type": "code",
   "execution_count": null,
   "id": "afa3a711",
   "metadata": {},
   "outputs": [],
   "source": [
    "t[4]=\"Dev\""
   ]
  },
  {
   "cell_type": "markdown",
   "id": "c49e0522",
   "metadata": {},
   "source": [
    "### Set\n",
    "- unordered collection of unique items in curly brackets'{}'\n",
    "- immutable\n",
    "- can't hold duplicates"
   ]
  },
  {
   "cell_type": "code",
   "execution_count": null,
   "id": "f129cde4",
   "metadata": {},
   "outputs": [],
   "source": [
    "s={1,2,3,4,4.5,6.7,\"Python\",\"hii\",1,2,3,\"Hii\"}"
   ]
  },
  {
   "cell_type": "code",
   "execution_count": null,
   "id": "36dbac15",
   "metadata": {},
   "outputs": [],
   "source": [
    "print(s)"
   ]
  },
  {
   "cell_type": "code",
   "execution_count": null,
   "id": "d54b07bb",
   "metadata": {},
   "outputs": [],
   "source": [
    "s={\"Python\",3.4,5.6,2,3,3,4,\"Hii\"}"
   ]
  },
  {
   "cell_type": "code",
   "execution_count": null,
   "id": "e3a78193",
   "metadata": {},
   "outputs": [],
   "source": [
    "print(s)"
   ]
  },
  {
   "cell_type": "code",
   "execution_count": null,
   "id": "c621028b",
   "metadata": {},
   "outputs": [],
   "source": [
    "s[0]"
   ]
  },
  {
   "cell_type": "markdown",
   "id": "59b87a1a",
   "metadata": {},
   "source": [
    "### List \n",
    "- ordered collection of items in square brackets '[]'\n",
    "- mutable\n",
    "- can hold duplicates"
   ]
  },
  {
   "cell_type": "code",
   "execution_count": null,
   "id": "cfa08cac",
   "metadata": {},
   "outputs": [],
   "source": [
    "l=[\"Python\",\"Pranay\",\"Hii\",1,2,3,4,1,2,44.5,6.7,8.9]"
   ]
  },
  {
   "cell_type": "code",
   "execution_count": null,
   "id": "a868c865",
   "metadata": {},
   "outputs": [],
   "source": [
    "print(l)"
   ]
  },
  {
   "cell_type": "code",
   "execution_count": null,
   "id": "5b19c4af",
   "metadata": {},
   "outputs": [],
   "source": [
    "l[5]"
   ]
  },
  {
   "cell_type": "code",
   "execution_count": null,
   "id": "99ca0890",
   "metadata": {},
   "outputs": [],
   "source": [
    "l[5]=\"Dev\""
   ]
  },
  {
   "cell_type": "code",
   "execution_count": null,
   "id": "d19421a3",
   "metadata": {},
   "outputs": [],
   "source": [
    "print(l)"
   ]
  },
  {
   "cell_type": "code",
   "execution_count": null,
   "id": "656c251b",
   "metadata": {},
   "outputs": [],
   "source": [
    "s1={1,2,3,4.5,6.7,8.9,\"Python\",4,6,4.5,1,2}"
   ]
  },
  {
   "cell_type": "code",
   "execution_count": null,
   "id": "03322746",
   "metadata": {},
   "outputs": [],
   "source": [
    "print(s1)"
   ]
  },
  {
   "cell_type": "code",
   "execution_count": null,
   "id": "11998a37",
   "metadata": {},
   "outputs": [],
   "source": [
    "list(s1)"
   ]
  },
  {
   "cell_type": "code",
   "execution_count": null,
   "id": "046b9e89",
   "metadata": {},
   "outputs": [],
   "source": [
    "l.append(\"Jiten\")"
   ]
  },
  {
   "cell_type": "code",
   "execution_count": null,
   "id": "c661934f",
   "metadata": {},
   "outputs": [],
   "source": [
    "print(l)"
   ]
  },
  {
   "cell_type": "code",
   "execution_count": null,
   "id": "cc67a9ff",
   "metadata": {},
   "outputs": [],
   "source": [
    "type(l)"
   ]
  },
  {
   "cell_type": "markdown",
   "id": "19e8a564",
   "metadata": {},
   "source": [
    "### Dict \n",
    "- unordered collection of key-value pairs\n",
    "- mutable"
   ]
  },
  {
   "cell_type": "code",
   "execution_count": null,
   "id": "b38ffc6e",
   "metadata": {},
   "outputs": [],
   "source": [
    "d={101:\"hii\",\"hey\":90,'e':56,6.7:90.1}"
   ]
  },
  {
   "cell_type": "code",
   "execution_count": null,
   "id": "0105852e",
   "metadata": {},
   "outputs": [],
   "source": [
    "print(d)"
   ]
  },
  {
   "cell_type": "code",
   "execution_count": null,
   "id": "137c7688",
   "metadata": {},
   "outputs": [],
   "source": [
    "d[\"hey\"]"
   ]
  },
  {
   "cell_type": "code",
   "execution_count": null,
   "id": "8cdc24c9",
   "metadata": {},
   "outputs": [],
   "source": [
    "d[\"Ashish\"]=\"Hello\""
   ]
  },
  {
   "cell_type": "code",
   "execution_count": null,
   "id": "50be0d20",
   "metadata": {},
   "outputs": [],
   "source": [
    "print(d)"
   ]
  },
  {
   "cell_type": "code",
   "execution_count": null,
   "id": "80478294",
   "metadata": {},
   "outputs": [],
   "source": [
    "d={'a':[1,23,4.5,6],\"b\":[7,8,9]}"
   ]
  }
 ],
 "metadata": {
  "kernelspec": {
   "display_name": "Python 3 (ipykernel)",
   "language": "python",
   "name": "python3"
  },
  "language_info": {
   "codemirror_mode": {
    "name": "ipython",
    "version": 3
   },
   "file_extension": ".py",
   "mimetype": "text/x-python",
   "name": "python",
   "nbconvert_exporter": "python",
   "pygments_lexer": "ipython3",
   "version": "3.9.12"
  }
 },
 "nbformat": 4,
 "nbformat_minor": 5
}
